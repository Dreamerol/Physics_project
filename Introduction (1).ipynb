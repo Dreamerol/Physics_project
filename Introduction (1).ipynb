{
 "cells": [
  {
   "cell_type": "markdown",
   "id": "455a7e6f-179a-4b64-aec6-3821bd07e002",
   "metadata": {},
   "source": [
    "# Introduction"
   ]
  },
  {
   "cell_type": "markdown",
   "id": "f76a1a4d-42bd-4377-9be5-a4ae700a9ad6",
   "metadata": {},
   "source": [
    "1.Newton Forces\n",
    "   Vector sum of forces\n",
    "   Acceleration\n",
    "   Types of movements\n",
    "2.Making graphs of motions\n",
    "   Trigonometry basics\n",
    "   Throwing an object - projectional motion\n",
    "   "
   ]
  },
  {
   "cell_type": "markdown",
   "id": "4c23d372-7dcb-4db7-90e1-a0b61a813425",
   "metadata": {},
   "source": [
    "This project is helpful to learn the basics of physics-mechanics, to give you some useful examples, which will help you understand the material, also to help students or scientists to solve problems.So are you ready to do physics:)\n",
    "Also this problem solvers can be used in video games, to make them appear more realistic-games for shooting or even though the most well-known game \"Flappy bird\"."
   ]
  },
  {
   "cell_type": "markdown",
   "id": "cebc2e9f-2ee2-4143-a397-c4c03a7f3132",
   "metadata": {},
   "source": [
    "<img src=\"https://qph.cf2.quoracdn.net/main-qimg-da562d3e727791a45750b5564721671d-lq\" alt=\"Newton be like\" />"
   ]
  },
  {
   "cell_type": "markdown",
   "id": "c6902664-6cda-4827-a64e-40554c580c50",
   "metadata": {},
   "source": [
    "I hope the materials and algorhytms that we have used in the article would be understandable and useful for you."
   ]
  }
 ],
 "metadata": {
  "kernelspec": {
   "display_name": "Python 3 (ipykernel)",
   "language": "python",
   "name": "python3"
  },
  "language_info": {
   "codemirror_mode": {
    "name": "ipython",
    "version": 3
   },
   "file_extension": ".py",
   "mimetype": "text/x-python",
   "name": "python",
   "nbconvert_exporter": "python",
   "pygments_lexer": "ipython3",
   "version": "3.9.13"
  }
 },
 "nbformat": 4,
 "nbformat_minor": 5
}
